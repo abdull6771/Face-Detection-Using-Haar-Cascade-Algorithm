{
 "cells": [
  {
   "cell_type": "markdown",
   "id": "9518f72d-006a-45fb-bebd-8f8bd90d2de1",
   "metadata": {},
   "source": [
    "#### FACE DETECTION FROM VIDEOS"
   ]
  },
  {
   "cell_type": "code",
   "execution_count": 1,
   "id": "ec595ced-87ad-4792-b266-fe08b1e07a51",
   "metadata": {},
   "outputs": [],
   "source": [
    "#importing dependencies\n",
    "import cv2\n",
    "import imutils\n",
    "import numpy as np"
   ]
  },
  {
   "cell_type": "code",
   "execution_count": 2,
   "id": "a2dc2904-e79e-43cf-955e-5bc5d025b57c",
   "metadata": {},
   "outputs": [],
   "source": [
    "#loading ths cascade algorithm\n",
    "face_cascade = cv2.CascadeClassifier(\"haarcascade_frontalface_default.xml\")"
   ]
  },
  {
   "cell_type": "code",
   "execution_count": 5,
   "id": "ba8454f3-7c79-47d0-a92f-de188ce7f0a5",
   "metadata": {},
   "outputs": [],
   "source": [
    "#defining the function that will do the detection\n",
    "def detect(gray,frame):\n",
    "    faces = face_cascade.detectMultiScale(gray,1.3,5)\n",
    "    for (x,y,w,h) in faces:\n",
    "        cv2.rectangle(frame,(x,y),(x+w,y+h),(0,255,0),3)\n",
    "    return frame"
   ]
  },
  {
   "cell_type": "code",
   "execution_count": 11,
   "id": "cb8fe0aa-d9d7-4697-9e34-4527033c1577",
   "metadata": {},
   "outputs": [],
   "source": [
    "#Doing some Face Recognition  with webcam\n",
    "Video_capture = cv2.VideoCapture(0)\n",
    "while True:\n",
    "    _,frame = Video_capture.read()\n",
    "    gray = cv2.cvtColor(frame,cv2.COLOR_BGR2GRAY)\n",
    "    canvas = detect(gray,frame)\n",
    "    cv2.imshow(\"Video_ Capture\",canvas)\n",
    "    if cv2.waitKey(1) & 0xFF == ord(\"q\"):\n",
    "        break\n",
    "Video_capture.release()\n",
    "cv2.destroyAllWindows()"
   ]
  },
  {
   "cell_type": "code",
   "execution_count": null,
   "id": "a17b2490-48e5-4b00-ab59-cd1890dbd241",
   "metadata": {},
   "outputs": [],
   "source": []
  }
 ],
 "metadata": {
  "kernelspec": {
   "display_name": "Python 3 (ipykernel)",
   "language": "python",
   "name": "python3"
  },
  "language_info": {
   "codemirror_mode": {
    "name": "ipython",
    "version": 3
   },
   "file_extension": ".py",
   "mimetype": "text/x-python",
   "name": "python",
   "nbconvert_exporter": "python",
   "pygments_lexer": "ipython3",
   "version": "3.9.7"
  }
 },
 "nbformat": 4,
 "nbformat_minor": 5
}
